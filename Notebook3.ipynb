version https://git-lfs.github.com/spec/v1
oid sha256:46aa47d6e35f9b9a85e17eaa6172cece710067c7ee585400c01ea321e217c953
size 177131148
